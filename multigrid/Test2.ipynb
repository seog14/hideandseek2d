{
 "cells": [
  {
   "cell_type": "code",
   "execution_count": 1,
   "metadata": {},
   "outputs": [
    {
     "ename": "AttributeError",
     "evalue": "'OrderEnforcing' object has no attribute 'is_done'",
     "output_type": "error",
     "traceback": [
      "\u001b[1;31m---------------------------------------------------------------------------\u001b[0m",
      "\u001b[1;31mAttributeError\u001b[0m                            Traceback (most recent call last)",
      "Cell \u001b[1;32mIn[1], line 7\u001b[0m\n\u001b[0;32m      4\u001b[0m env \u001b[38;5;241m=\u001b[39m gym\u001b[38;5;241m.\u001b[39mmake(\u001b[38;5;124m'\u001b[39m\u001b[38;5;124mMultiGrid-Empty-8x8-v0\u001b[39m\u001b[38;5;124m'\u001b[39m, agents\u001b[38;5;241m=\u001b[39m\u001b[38;5;241m2\u001b[39m, render_mode\u001b[38;5;241m=\u001b[39m\u001b[38;5;124m'\u001b[39m\u001b[38;5;124mhuman\u001b[39m\u001b[38;5;124m'\u001b[39m)\n\u001b[0;32m      6\u001b[0m observations, infos \u001b[38;5;241m=\u001b[39m env\u001b[38;5;241m.\u001b[39mreset()\n\u001b[1;32m----> 7\u001b[0m \u001b[38;5;28;01mwhile\u001b[39;00m \u001b[38;5;129;01mnot\u001b[39;00m \u001b[43menv\u001b[49m\u001b[38;5;241;43m.\u001b[39;49m\u001b[43mis_done\u001b[49m():\n\u001b[0;32m      8\u001b[0m    \u001b[38;5;66;03m# this is where you would insert your policy / policies\u001b[39;00m\n\u001b[0;32m      9\u001b[0m    actions \u001b[38;5;241m=\u001b[39m {agent\u001b[38;5;241m.\u001b[39mindex: agent\u001b[38;5;241m.\u001b[39maction_space\u001b[38;5;241m.\u001b[39msample() \u001b[38;5;28;01mfor\u001b[39;00m agent \u001b[38;5;129;01min\u001b[39;00m env\u001b[38;5;241m.\u001b[39magents}\n\u001b[0;32m     10\u001b[0m    observations, rewards, terminations, truncations, infos \u001b[38;5;241m=\u001b[39m env\u001b[38;5;241m.\u001b[39mstep(actions)\n",
      "\u001b[1;31mAttributeError\u001b[0m: 'OrderEnforcing' object has no attribute 'is_done'"
     ]
    }
   ],
   "source": [
    "import gymnasium as gym\n",
    "import multigrid.envs\n",
    "\n",
    "env = gym.make('MultiGrid-Empty-8x8-v0', agents=2, render_mode='human')\n",
    "\n",
    "observations, infos = env.reset()\n",
    "while not env.is_done():\n",
    "   # this is where you would insert your policy / policies\n",
    "   actions = {agent.index: agent.action_space.sample() for agent in env.agents}\n",
    "   observations, rewards, terminations, truncations, infos = env.step(actions)\n",
    "\n",
    "env.close()"
   ]
  }
 ],
 "metadata": {
  "kernelspec": {
   "display_name": "RL-venv",
   "language": "python",
   "name": "python3"
  },
  "language_info": {
   "codemirror_mode": {
    "name": "ipython",
    "version": 3
   },
   "file_extension": ".py",
   "mimetype": "text/x-python",
   "name": "python",
   "nbconvert_exporter": "python",
   "pygments_lexer": "ipython3",
   "version": "3.11.7"
  }
 },
 "nbformat": 4,
 "nbformat_minor": 2
}
